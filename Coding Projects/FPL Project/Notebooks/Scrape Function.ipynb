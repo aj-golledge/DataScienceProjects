{
 "cells": [
  {
   "cell_type": "markdown",
   "id": "d67641d3",
   "metadata": {},
   "source": [
    "# Imports"
   ]
  },
  {
   "cell_type": "code",
   "execution_count": 9,
   "id": "a1c42951",
   "metadata": {},
   "outputs": [],
   "source": [
    "import requests\n",
    "import json\n",
    "import numpy as np\n",
    "import pandas as pd\n",
    "import datetime"
   ]
  },
  {
   "cell_type": "markdown",
   "id": "d3716849",
   "metadata": {},
   "source": [
    "# Pull Data from API and Save as JSON"
   ]
  },
  {
   "cell_type": "code",
   "execution_count": 10,
   "id": "5205457b",
   "metadata": {},
   "outputs": [],
   "source": [
    "link = \"https://fantasy.premierleague.com/api/bootstrap-static/\"\n",
    "response = requests.get(link)"
   ]
  },
  {
   "cell_type": "code",
   "execution_count": 11,
   "id": "f95d8709",
   "metadata": {},
   "outputs": [],
   "source": [
    "data = json.loads(response.text)"
   ]
  },
  {
   "cell_type": "code",
   "execution_count": 14,
   "id": "299d4f24",
   "metadata": {},
   "outputs": [],
   "source": [
    "out_file = open(\"Data/22-23.json\", \"w\")\n",
    "  \n",
    "json.dump(data, out_file, indent = 6)\n",
    "  \n",
    "out_file.close()"
   ]
  }
 ],
 "metadata": {
  "kernelspec": {
   "display_name": "Python 3 (ipykernel)",
   "language": "python",
   "name": "python3"
  },
  "language_info": {
   "codemirror_mode": {
    "name": "ipython",
    "version": 3
   },
   "file_extension": ".py",
   "mimetype": "text/x-python",
   "name": "python",
   "nbconvert_exporter": "python",
   "pygments_lexer": "ipython3",
   "version": "3.8.13"
  }
 },
 "nbformat": 4,
 "nbformat_minor": 5
}
