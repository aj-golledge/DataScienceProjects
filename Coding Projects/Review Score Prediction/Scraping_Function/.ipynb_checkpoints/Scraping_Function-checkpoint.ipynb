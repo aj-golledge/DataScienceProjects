{
 "cells": [
  {
   "cell_type": "markdown",
   "id": "f8d9d74d",
   "metadata": {},
   "source": [
    "### Import Packages"
   ]
  },
  {
   "cell_type": "code",
   "execution_count": 1,
   "id": "f522dfb3",
   "metadata": {},
   "outputs": [],
   "source": [
    "from requests_html import HTMLSession\n",
    "import json\n",
    "\n",
    "sess = HTMLSession()"
   ]
  },
  {
   "cell_type": "markdown",
   "id": "e22ae612",
   "metadata": {},
   "source": [
    "### Define Get Review Function"
   ]
  },
  {
   "cell_type": "code",
   "execution_count": 2,
   "id": "4161f3b3",
   "metadata": {},
   "outputs": [],
   "source": [
    "def get_reviews(url):    \n",
    "    reviews_list = {\"reviews\":[], 'url':url}\n",
    "    res = sess.get(url)\n",
    "    html = res.html\n",
    "    reviews = html.find('.product_reviews', first=True).find('[class=\"review_section\"]')\n",
    "    for review in reviews:\n",
    "        try:\n",
    "            review_body = review.find('.blurb_expanded', first=True).text\n",
    "        except AttributeError:\n",
    "            review_body = review.find('.review_body', first=True).text\n",
    "        reviews_list['reviews'].append({\n",
    "              'author': review.find('.name', first=True).text\n",
    "            , 'review': review_body\n",
    "            , 'date': review.find('.date', first=True).text\n",
    "            , 'score': int(review.find('.review_grade', first=True).text)\n",
    "            })\n",
    "    next_page = html.find('.flipper.next', first=True)\n",
    "    if next_page:\n",
    "        try:\n",
    "            next_page_url = next_page.absolute_links.pop() \n",
    "            reviews_list['reviews'].extend(get_reviews(next_page_url)['reviews'])\n",
    "        except KeyError:\n",
    "            pass\n",
    "    return reviews_list"
   ]
  }
 ],
 "metadata": {
  "kernelspec": {
   "display_name": "Python 3 (ipykernel)",
   "language": "python",
   "name": "python3"
  },
  "language_info": {
   "codemirror_mode": {
    "name": "ipython",
    "version": 3
   },
   "file_extension": ".py",
   "mimetype": "text/x-python",
   "name": "python",
   "nbconvert_exporter": "python",
   "pygments_lexer": "ipython3",
   "version": "3.8.13"
  }
 },
 "nbformat": 4,
 "nbformat_minor": 5
}
