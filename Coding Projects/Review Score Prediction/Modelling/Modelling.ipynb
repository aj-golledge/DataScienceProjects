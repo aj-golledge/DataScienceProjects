{
 "cells": [
  {
   "cell_type": "markdown",
   "id": "404b6fc7",
   "metadata": {},
   "source": [
    "### Import Functions and Packages"
   ]
  },
  {
   "cell_type": "code",
   "execution_count": 1,
   "id": "5f3d1dc1",
   "metadata": {},
   "outputs": [],
   "source": [
    "import os\n",
    "import pandas as pd\n",
    "os.chdir(\"/Users/adamgolledge/Documents/GitHub/DataScienceProjects/Coding Projects/Review Score Prediction/Scraping_Function\")\n",
    "%run ./Scraping_Function.ipynb"
   ]
  },
  {
   "cell_type": "markdown",
   "id": "cffba4fe",
   "metadata": {},
   "source": [
    "### Initialise URL List to Scrape"
   ]
  },
  {
   "cell_type": "code",
   "execution_count": 2,
   "id": "fcbf3b9c",
   "metadata": {},
   "outputs": [],
   "source": [
    "URL_dict = {\n",
    "    \"The Strokes\": [\n",
    "        \"https://www.metacritic.com/music/is-this-it/the-strokes/user-reviews\",\n",
    "        \"https://www.metacritic.com/music/room-on-fire/the-strokes/user-reviews\",\n",
    "        \"https://www.metacritic.com/music/first-impressions-of-earth/the-strokes/user-reviews\",\n",
    "        \"https://www.metacritic.com/music/angles/the-strokes/user-reviews\",\n",
    "        \"https://www.metacritic.com/music/comedown-machine/the-strokes/user-reviews\",\n",
    "        \"https://www.metacritic.com/music/the-new-abnormal/the-strokes/user-reviews\"       \n",
    "    ],\n",
    "    \"Arctic Monkeys\": [\n",
    "        \"https://www.metacritic.com/music/whatever-people-say-i-am-thats-what-im-not/arctic-monkeys/user-reviews\",\n",
    "        \"https://www.metacritic.com/music/favourite-worst-nightmare/arctic-monkeys/user-reviews\",\n",
    "        \"https://www.metacritic.com/music/humbug/arctic-monkeys/user-reviews\",\n",
    "        \"https://www.metacritic.com/music/suck-it-and-see/arctic-monkeys/user-reviews\",\n",
    "        \"https://www.metacritic.com/music/am/arctic-monkeys/user-reviews\",\n",
    "        \"https://www.metacritic.com/music/tranquility-base-hotel-+-casino/arctic-monkeys/user-reviews\",\n",
    "        \"https://www.metacritic.com/music/the-car/arctic-monkeys/user-reviews\"\n",
    "    ]\n",
    "            \n",
    "           }"
   ]
  },
  {
   "cell_type": "markdown",
   "id": "34c51521",
   "metadata": {},
   "source": [
    "### Write DF Creation Functions and Scrape Data Into DataFrame"
   ]
  },
  {
   "cell_type": "code",
   "execution_count": 3,
   "id": "96fcc804",
   "metadata": {},
   "outputs": [],
   "source": [
    "def create_reviews_df(URL):\n",
    "    return pd.DataFrame.from_dict(get_reviews(URL)['reviews'])"
   ]
  },
  {
   "cell_type": "code",
   "execution_count": 4,
   "id": "2ad214e3",
   "metadata": {},
   "outputs": [],
   "source": [
    "def concat_reviews_df(Band):\n",
    "    review_df_dict = {}\n",
    "    for i in URL_dict[Band]:\n",
    "        review_df_dict[i] = create_reviews_df(i)\n",
    "    return pd.concat(review_df_dict.values(), ignore_index=True)"
   ]
  },
  {
   "cell_type": "code",
   "execution_count": 5,
   "id": "45873b22",
   "metadata": {},
   "outputs": [],
   "source": [
    "def concat_bands_df(Dictionary):\n",
    "    band_review_dict = {}\n",
    "    for i in Dictionary:\n",
    "        band_review_dict[i] = concat_reviews_df(i)\n",
    "        band_review_dict[i][\"band\"] = i\n",
    "    return pd.concat(band_review_dict.values(), ignore_index=True)"
   ]
  },
  {
   "cell_type": "code",
   "execution_count": null,
   "id": "518f13c6",
   "metadata": {},
   "outputs": [],
   "source": []
  }
 ],
 "metadata": {
  "kernelspec": {
   "display_name": "Python 3 (ipykernel)",
   "language": "python",
   "name": "python3"
  },
  "language_info": {
   "codemirror_mode": {
    "name": "ipython",
    "version": 3
   },
   "file_extension": ".py",
   "mimetype": "text/x-python",
   "name": "python",
   "nbconvert_exporter": "python",
   "pygments_lexer": "ipython3",
   "version": "3.8.13"
  }
 },
 "nbformat": 4,
 "nbformat_minor": 5
}
