{
 "cells": [
  {
   "cell_type": "markdown",
   "id": "404b6fc7",
   "metadata": {},
   "source": [
    "### Import Functions and Packages"
   ]
  },
  {
   "cell_type": "code",
   "execution_count": 1,
   "id": "5f3d1dc1",
   "metadata": {},
   "outputs": [],
   "source": [
    "%run ./ScrapeFunction.ipynb\n",
    "import pandas as pd"
   ]
  },
  {
   "cell_type": "markdown",
   "id": "cffba4fe",
   "metadata": {},
   "source": [
    "### Initialise URL List to Scrape"
   ]
  },
  {
   "cell_type": "code",
   "execution_count": 2,
   "id": "fcbf3b9c",
   "metadata": {},
   "outputs": [],
   "source": [
    "URL_list = [\n",
    "        \"https://www.metacritic.com/music/is-this-it/the-strokes/user-reviews\"\n",
    "        ,\"https://www.metacritic.com/music/room-on-fire/the-strokes/user-reviews\"\n",
    "        ,\"https://www.metacritic.com/music/first-impressions-of-earth/the-strokes/user-reviews\"\n",
    "        ,\"https://www.metacritic.com/music/angles/the-strokes/user-reviews\"\n",
    "        ,\"https://www.metacritic.com/music/comedown-machine/the-strokes/user-reviews\"\n",
    "        ,\"https://www.metacritic.com/music/the-new-abnormal/the-strokes/user-reviews\"       \n",
    "    ]"
   ]
  },
  {
   "cell_type": "markdown",
   "id": "34c51521",
   "metadata": {},
   "source": [
    "### Write DF Creation Function"
   ]
  },
  {
   "cell_type": "code",
   "execution_count": 3,
   "id": "c3aa05b9",
   "metadata": {},
   "outputs": [],
   "source": [
    "def df_create(URL_list):\n",
    "    \n",
    "    data_dict = {}\n",
    "    reviews_dict = {}\n",
    "    scores_dict = {}\n",
    "    df_dict = {}\n",
    "    \n",
    "    for i in URL_list:\n",
    "        data_dict[i] = get_reviews(i)\n",
    "    for i in URL_list:\n",
    "        l = len(data_dict[i][\"reviews\"])\n",
    "        reviews = [None]*l\n",
    "        scores = [None]*l\n",
    "        for j in range(l):\n",
    "            reviews[j] = data_dict[i][\"reviews\"][j][\"review\"]\n",
    "            scores[j] = data_dict[i][\"reviews\"][j][\"score\"]\n",
    "        reviews_dict[i] = reviews\n",
    "        scores_dict[i] = scores \n",
    "    for i in URL_list:\n",
    "        df_dict[i] = pd.DataFrame(\n",
    "    { 'album': i\n",
    "     ,'review': reviews_dict[i]\n",
    "     ,'score': scores_dict[i]\n",
    "    })\n",
    "    df = pd.concat(df_dict.values(), ignore_index=True)\n",
    "    df[\"album\"] = df[\"album\"].apply(lambda x: x.replace('https://www.metacritic.com/music/', ''))\n",
    "    df[\"album\"] = df[\"album\"].apply(lambda x: x.replace('/the-strokes/user-reviews', ''))\n",
    "    df[\"album\"] = df[\"album\"].apply(lambda x: x.replace('-', ' '))\n",
    "    return df     "
   ]
  },
  {
   "cell_type": "code",
   "execution_count": 4,
   "id": "78523182",
   "metadata": {},
   "outputs": [],
   "source": [
    "Strokes = df_create(URL_list)"
   ]
  },
  {
   "cell_type": "code",
   "execution_count": 5,
   "id": "a7d70c67",
   "metadata": {},
   "outputs": [
    {
     "data": {
      "text/html": [
       "<div>\n",
       "<style scoped>\n",
       "    .dataframe tbody tr th:only-of-type {\n",
       "        vertical-align: middle;\n",
       "    }\n",
       "\n",
       "    .dataframe tbody tr th {\n",
       "        vertical-align: top;\n",
       "    }\n",
       "\n",
       "    .dataframe thead th {\n",
       "        text-align: right;\n",
       "    }\n",
       "</style>\n",
       "<table border=\"1\" class=\"dataframe\">\n",
       "  <thead>\n",
       "    <tr style=\"text-align: right;\">\n",
       "      <th></th>\n",
       "      <th>album</th>\n",
       "      <th>review</th>\n",
       "      <th>score</th>\n",
       "    </tr>\n",
       "  </thead>\n",
       "  <tbody>\n",
       "    <tr>\n",
       "      <th>0</th>\n",
       "      <td>is this it</td>\n",
       "      <td>\"is this it?\" is fantastic. truly a landmark a...</td>\n",
       "      <td>10</td>\n",
       "    </tr>\n",
       "    <tr>\n",
       "      <th>1</th>\n",
       "      <td>is this it</td>\n",
       "      <td>\"Is This It\" has gone down as one of the best ...</td>\n",
       "      <td>10</td>\n",
       "    </tr>\n",
       "    <tr>\n",
       "      <th>2</th>\n",
       "      <td>is this it</td>\n",
       "      <td>The best album of the decade, hands down.</td>\n",
       "      <td>10</td>\n",
       "    </tr>\n",
       "    <tr>\n",
       "      <th>3</th>\n",
       "      <td>is this it</td>\n",
       "      <td>The Strokes may not have been able to really f...</td>\n",
       "      <td>9</td>\n",
       "    </tr>\n",
       "    <tr>\n",
       "      <th>4</th>\n",
       "      <td>is this it</td>\n",
       "      <td>The beggining of this century brought this pea...</td>\n",
       "      <td>10</td>\n",
       "    </tr>\n",
       "    <tr>\n",
       "      <th>5</th>\n",
       "      <td>is this it</td>\n",
       "      <td>The Strokes' debut album is amazing! Jules Cas...</td>\n",
       "      <td>10</td>\n",
       "    </tr>\n",
       "    <tr>\n",
       "      <th>6</th>\n",
       "      <td>is this it</td>\n",
       "      <td>Simply put- The best album of the last decade....</td>\n",
       "      <td>10</td>\n",
       "    </tr>\n",
       "    <tr>\n",
       "      <th>7</th>\n",
       "      <td>is this it</td>\n",
       "      <td>Nothing bad can be said about this album. The ...</td>\n",
       "      <td>10</td>\n",
       "    </tr>\n",
       "    <tr>\n",
       "      <th>8</th>\n",
       "      <td>is this it</td>\n",
       "      <td>An album for the ages. A thoroughly enjoyable ...</td>\n",
       "      <td>10</td>\n",
       "    </tr>\n",
       "    <tr>\n",
       "      <th>9</th>\n",
       "      <td>is this it</td>\n",
       "      <td>More than fifteen years later, The Strokes are...</td>\n",
       "      <td>9</td>\n",
       "    </tr>\n",
       "  </tbody>\n",
       "</table>\n",
       "</div>"
      ],
      "text/plain": [
       "        album                                             review  score\n",
       "0  is this it  \"is this it?\" is fantastic. truly a landmark a...     10\n",
       "1  is this it  \"Is This It\" has gone down as one of the best ...     10\n",
       "2  is this it          The best album of the decade, hands down.     10\n",
       "3  is this it  The Strokes may not have been able to really f...      9\n",
       "4  is this it  The beggining of this century brought this pea...     10\n",
       "5  is this it  The Strokes' debut album is amazing! Jules Cas...     10\n",
       "6  is this it  Simply put- The best album of the last decade....     10\n",
       "7  is this it  Nothing bad can be said about this album. The ...     10\n",
       "8  is this it  An album for the ages. A thoroughly enjoyable ...     10\n",
       "9  is this it  More than fifteen years later, The Strokes are...      9"
      ]
     },
     "execution_count": 5,
     "metadata": {},
     "output_type": "execute_result"
    }
   ],
   "source": [
    "Strokes.head(10)"
   ]
  }
 ],
 "metadata": {
  "kernelspec": {
   "display_name": "Python 3 (ipykernel)",
   "language": "python",
   "name": "python3"
  },
  "language_info": {
   "codemirror_mode": {
    "name": "ipython",
    "version": 3
   },
   "file_extension": ".py",
   "mimetype": "text/x-python",
   "name": "python",
   "nbconvert_exporter": "python",
   "pygments_lexer": "ipython3",
   "version": "3.8.13"
  }
 },
 "nbformat": 4,
 "nbformat_minor": 5
}
